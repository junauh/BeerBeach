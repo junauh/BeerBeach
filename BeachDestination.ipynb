{
  "nbformat": 4,
  "nbformat_minor": 0,
  "metadata": {
    "colab": {
      "name": "BeachDestination.ipynb",
      "version": "0.3.2",
      "provenance": [],
      "collapsed_sections": [],
      "include_colab_link": true
    },
    "language_info": {
      "codemirror_mode": {
        "name": "ipython",
        "version": 3
      },
      "file_extension": ".py",
      "mimetype": "text/x-python",
      "name": "python",
      "nbconvert_exporter": "python",
      "pygments_lexer": "ipython3",
      "version": "3.7.1"
    },
    "kernelspec": {
      "display_name": "Python 3",
      "language": "python",
      "name": "python3"
    }
  },
  "cells": [
    {
      "cell_type": "markdown",
      "metadata": {
        "id": "view-in-github",
        "colab_type": "text"
      },
      "source": [
        "<a href=\"https://colab.research.google.com/github/junauh/travel-cost/blob/master/BeachDestination.ipynb\" target=\"_parent\"><img src=\"https://colab.research.google.com/assets/colab-badge.svg\" alt=\"Open In Colab\"/></a>"
      ]
    },
    {
      "metadata": {
        "id": "bsPd_4UFdZhC",
        "colab_type": "text"
      },
      "cell_type": "markdown",
      "source": [
        "# Lead question: Where to go for this SUMMER- Beer & Beach (BnB) Destinations\n",
        "\n",
        "## Overview\n",
        "\n",
        "This post series will resolve the travel planning frustration by building an affordable beach destination curation tool using machine learning. We will start by building a travel destination recommendation tool. And discuss further on which algorithm and database to build to machine learn the tool.\n",
        "\n",
        "## Background\n",
        "\n",
        "Have you ever felt so frustrated while planning a vacation? Starting from where to go, when to go, how to go,… you feel exhausted and confused by choice overload. Well, you are not alone. According to McKinsey's recent clickstream studies, a customer takes 36 days over 45 touchpoints on average to purchase a single hotel night hopping between search engines to intermediaries to suppliers over multiple devices! Exhausting JUST take me somewhere, ANYWHER!\n",
        "\n",
        "In this post series, we resolve the frustration by building a affordable beach destination curation tool using machine learning. We will start by building a direct flight travel destination recommendation tool. And discuss further on which algorithm and database to build to machine learn the tool.\n",
        "\n",
        "## Initial Questions to answer where to go\n",
        "* When to go? June, July or August?\n",
        "* How long? 1 week, 10 days or 2 weeks?\n",
        "* What to do? Fish, Scuba, Sail, Surf, or NOTHING but Beer?\n",
        "\n",
        "## Model Formalization\n",
        "* Inputs<br>\n",
        "  1) home_airports - fetch nearby airports via GPS\n",
        "  2) Duration\n",
        "* ML curation inputs<br>\n",
        "  1) Dates/Months of travel\n",
        "  2) Duration\n",
        "  3) One- way travel time [minutes] / Whole trip length [days]\n",
        "  4) Nights / city\n",
        "  5) Budget\n",
        "  6) Companion size\n",
        "  7) Keen activities\n",
        "* Assumptions\n",
        "  1) One- way travel time [minutes] and Whole trip length [days] Correlation\n",
        "  2) Maximum Budget per person per day\n",
        "  3) \n",
        "\n",
        "## Sample Modeling Inputs\n",
        " Based on 6 vacation sample of an customer history, design the personalized summer holiday vacation plan for the customer<br>\n",
        "  1) Home airport: MMX or CPH<br>\n",
        "  2) Avg. 25 minutes flight one-way per travel day<br>\n",
        "  3) Avg. 4 days per city<br>\n",
        "  4) Mostly traveled in June<br>\n",
        "  5) Budet: total 20,000 sek for 2 people\n",
        "\n",
        "## Tool input\n",
        "home_airport1 = 'MMX'\n",
        "home_airport2 = 'CPH'\n",
        "month = 'june'\n",
        "vacation_length_day = 14\n",
        "max_flight_time_per_travel_day_min = 25\n",
        "\n",
        "## Data Sources\n",
        "\n",
        "## Notable Issues/Filters - Geographical renamming issues\n",
        "\n",
        "1 .Frontal Variation\n",
        "- corfu vs. korfu\n",
        "- busan vs pusan\n",
        "- Kyongju vs. Gyongju\n",
        "- Taegu vs. Daegu\n",
        "- Taejon vs. Daejeon\n",
        "\n",
        "2 .End point Variation\n",
        "- Malmö vs. Malmoe\n",
        "- Inchon vs. Incheon\n",
        "\n",
        "3 .New vs. old names\n",
        "- Peking → Beijing\n",
        "- Bombay → Mumbai\n",
        "- Madras → Chennai\n",
        "- Burma → Myanmmar\n",
        "- Canton → Guangdong\n",
        "- Nanking → Nanjing (#2)\n",
        "- Sian → Xi'an (#1)\n",
        "- Chengtu → Chengdu (#2)\n",
        "- Chungking → Chongqing (#2)\n",
        "- Tientsin → Tianjin\n",
        "- Sinkiang → Xinjiang\n",
        "- Heilungkiang → Heilongjiang (#2)\n",
        "- Saigon → Ho Chi Minh City\n",
        "- FYROM → Maccedonia\n",
        "\n",
        "4 .Same name different country under romanization\n",
        "- Straßburg (Germany) vs Strasbourg (France)\n",
        "\n",
        "Ref\n",
        "https://en.wikipedia.org/wiki/Geographical_renaming\n",
        "\n",
        "## Future improvements\n",
        "* Geographical renaming only applies to city names, not countries like Burma → Myanmmar or FYROM → Maccedonia\n",
        "* Web scraping legal issues\n",
        "* ML model building\n",
        "* Incorporate more transportation option - train, bus, car sharing\n",
        "*IP address/ Location based service\n",
        ": automatically search nearby airport(s)\n",
        ": filter out your visa status\n",
        "* Email scraping for automatic ML\n",
        "*Dream: voice travel search - send visuals to mobile - voice purchase\n",
        "* Real time price comparison- study jack's flight method\n",
        "* Accomodation\n",
        "\n",
        "#**dictionary vs. datafram\n",
        "#**visualization of all the data below - i.e. temperature and beer index\n",
        "\n",
        "Table columns : country, nearby cities, beer price, flight price for the whole trip\n",
        "\n",
        "*Dream: voice travel search - send visuals to mobile - voice purchase\n",
        "\n",
        "*Hotel\n",
        ": digital key\n"
      ]
    },
    {
      "metadata": {
        "id": "8P1GrKydnf8P",
        "colab_type": "text"
      },
      "cell_type": "markdown",
      "source": [
        "## Import libraries and define inputs"
      ]
    },
    {
      "metadata": {
        "id": "J0zdWAw_dZhG",
        "colab_type": "code",
        "colab": {}
      },
      "cell_type": "code",
      "source": [
        "#inputs\n",
        "\n",
        "home_airport1 = 'MMX'\n",
        "home_airport2 = 'CPH'\n",
        "month = 'june'\n",
        "\n",
        "vacation_length_day = 14\n",
        "max_flight_time_per_travel_day_min = 25\n",
        "max_flight_time_one_way = vacation_length_day * max_flight_time_per_travel_day_min\n",
        "\n",
        "import pandas as pd\n",
        "import numpy as np\n",
        "import matplotlib.pyplot as plt\n",
        "import seaborn as sns\n",
        "%matplotlib inline\n",
        "import requests\n",
        "\n",
        "from bs4 import BeautifulSoup\n",
        "import re\n"
      ],
      "execution_count": 0,
      "outputs": []
    },
    {
      "metadata": {
        "id": "aEKuYbFIdZhH",
        "colab_type": "text"
      },
      "cell_type": "markdown",
      "source": [
        "## 1. Find destinations: flight time less than 350 min from CPH and MMX\n",
        "\n",
        "Webscrape direct flight routes from home airports using \"https://www.flightsfrom.com/\" as the source webpage. According to the website, CPH and MMX total have 156 direct flights routes."
      ]
    },
    {
      "metadata": {
        "id": "_0IC2dyBdZhI",
        "colab_type": "code",
        "colab": {}
      },
      "cell_type": "code",
      "source": [
        "page_home_airport_1 = requests.get(\"https://www.flightsfrom.com/{}/destinations?durationFrom=0&durationTo={}\".format(home_airport1,max_flight_time_one_way))\n",
        "page_home_airport_2 = requests.get(\"https://www.flightsfrom.com/{}/destinations?durationFrom=0&durationTo={}\".format(home_airport2,max_flight_time_one_way))\n",
        "if page_home_airport_1.status_code != 200:\n",
        "    print('Airport 1 Flight Time page loading Error')\n",
        "if page_home_airport_2.status_code != 200:\n",
        "    print('Airport 2 Flight Time page loading Error')\n"
      ],
      "execution_count": 0,
      "outputs": []
    },
    {
      "metadata": {
        "id": "ZxEzbI2MdZhK",
        "colab_type": "code",
        "colab": {}
      },
      "cell_type": "code",
      "source": [
        "#parse a page with BeautifulSoup: take the raw html text and break it into Python object\n",
        "\n",
        "soup_one = BeautifulSoup(page_home_airport_1.content,'html.parser')\n",
        "soup_two = BeautifulSoup(page_home_airport_2.content,'html.parser')\n",
        "#print organized HTML content\n",
        "#soupm.prettify()\n",
        "#soupc.prettify()"
      ],
      "execution_count": 0,
      "outputs": []
    },
    {
      "metadata": {
        "id": "98IgbD5xdZhM",
        "colab_type": "code",
        "colab": {
          "base_uri": "https://localhost:8080/",
          "height": 203
        },
        "outputId": "04237e6c-ee9f-48ef-bf07-2e18bd8819ad"
      },
      "cell_type": "code",
      "source": [
        "#navigate through an HTML document via 'Tag' object\n",
        "sfam = soup_one.find_all('li', class_=['airport-content-destination-listitem','airport-content-destination-listitem-hidden'])\n",
        "#find children inside tml tag\n",
        "\n",
        "direct_flight_destinations = pd.DataFrame(columns = ['Country','City'])\n",
        "\n",
        "for item in sfam:\n",
        "    if 'data-name' in item.attrs:\n",
        "        if 'data-country' in item.attrs:\n",
        "            direct_flight_destinations = direct_flight_destinations.append({'Country':item['data-country'], 'City' : item['data-name']},ignore_index = True)\n",
        "\n",
        "direct_flight_destinations.head()"
      ],
      "execution_count": 4,
      "outputs": [
        {
          "output_type": "execute_result",
          "data": {
            "text/html": [
              "<div>\n",
              "<style scoped>\n",
              "    .dataframe tbody tr th:only-of-type {\n",
              "        vertical-align: middle;\n",
              "    }\n",
              "\n",
              "    .dataframe tbody tr th {\n",
              "        vertical-align: top;\n",
              "    }\n",
              "\n",
              "    .dataframe thead th {\n",
              "        text-align: right;\n",
              "    }\n",
              "</style>\n",
              "<table border=\"1\" class=\"dataframe\">\n",
              "  <thead>\n",
              "    <tr style=\"text-align: right;\">\n",
              "      <th></th>\n",
              "      <th>Country</th>\n",
              "      <th>City</th>\n",
              "    </tr>\n",
              "  </thead>\n",
              "  <tbody>\n",
              "    <tr>\n",
              "      <th>0</th>\n",
              "      <td>Serbia</td>\n",
              "      <td>Beograd</td>\n",
              "    </tr>\n",
              "    <tr>\n",
              "      <th>1</th>\n",
              "      <td>Romania</td>\n",
              "      <td>Bucharest</td>\n",
              "    </tr>\n",
              "    <tr>\n",
              "      <th>2</th>\n",
              "      <td>Hungary</td>\n",
              "      <td>Budapest</td>\n",
              "    </tr>\n",
              "    <tr>\n",
              "      <th>3</th>\n",
              "      <td>Romania</td>\n",
              "      <td>Cluj-Napoca</td>\n",
              "    </tr>\n",
              "    <tr>\n",
              "      <th>4</th>\n",
              "      <td>Poland</td>\n",
              "      <td>Gdansk</td>\n",
              "    </tr>\n",
              "  </tbody>\n",
              "</table>\n",
              "</div>"
            ],
            "text/plain": [
              "   Country         City\n",
              "0   Serbia      Beograd\n",
              "1  Romania    Bucharest\n",
              "2  Hungary     Budapest\n",
              "3  Romania  Cluj-Napoca\n",
              "4   Poland       Gdansk"
            ]
          },
          "metadata": {
            "tags": []
          },
          "execution_count": 4
        }
      ]
    },
    {
      "metadata": {
        "id": "jXxoLJBqdZhP",
        "colab_type": "code",
        "colab": {
          "base_uri": "https://localhost:8080/",
          "height": 172
        },
        "outputId": "73f3a8ae-8b9f-4dac-9d93-2c7de914d4c9"
      },
      "cell_type": "code",
      "source": [
        "#navigate through an HTML document via 'Tag' object\n",
        "sfac = soup_two.find_all('li', class_=['airport-content-destination-listitem','airport-content-destination-listitem-hidden'])\n",
        "\n",
        "direct_flight_destinations = pd.DataFrame(columns = ['Country','City'])\n",
        "\n",
        "#find children inside tml tag\n",
        "for item in sfac:\n",
        "    if 'data-name' in item.attrs:\n",
        "        if 'data-country' in item.attrs:\n",
        "            direct_flight_destinations = direct_flight_destinations.append({'Country':item['data-country'], 'City' : item['data-name']},ignore_index = True)\n",
        "\n",
        "direct_flight_destinations = direct_flight_destinations.drop_duplicates()\n",
        "direct_flight_destinations.describe()\n"
      ],
      "execution_count": 5,
      "outputs": [
        {
          "output_type": "execute_result",
          "data": {
            "text/html": [
              "<div>\n",
              "<style scoped>\n",
              "    .dataframe tbody tr th:only-of-type {\n",
              "        vertical-align: middle;\n",
              "    }\n",
              "\n",
              "    .dataframe tbody tr th {\n",
              "        vertical-align: top;\n",
              "    }\n",
              "\n",
              "    .dataframe thead th {\n",
              "        text-align: right;\n",
              "    }\n",
              "</style>\n",
              "<table border=\"1\" class=\"dataframe\">\n",
              "  <thead>\n",
              "    <tr style=\"text-align: right;\">\n",
              "      <th></th>\n",
              "      <th>Country</th>\n",
              "      <th>City</th>\n",
              "    </tr>\n",
              "  </thead>\n",
              "  <tbody>\n",
              "    <tr>\n",
              "      <th>count</th>\n",
              "      <td>156</td>\n",
              "      <td>156</td>\n",
              "    </tr>\n",
              "    <tr>\n",
              "      <th>unique</th>\n",
              "      <td>50</td>\n",
              "      <td>156</td>\n",
              "    </tr>\n",
              "    <tr>\n",
              "      <th>top</th>\n",
              "      <td>Italy</td>\n",
              "      <td>Monastir</td>\n",
              "    </tr>\n",
              "    <tr>\n",
              "      <th>freq</th>\n",
              "      <td>13</td>\n",
              "      <td>1</td>\n",
              "    </tr>\n",
              "  </tbody>\n",
              "</table>\n",
              "</div>"
            ],
            "text/plain": [
              "       Country      City\n",
              "count      156       156\n",
              "unique      50       156\n",
              "top      Italy  Monastir\n",
              "freq        13         1"
            ]
          },
          "metadata": {
            "tags": []
          },
          "execution_count": 5
        }
      ]
    },
    {
      "metadata": {
        "id": "yDvMOY1idZhR",
        "colab_type": "text"
      },
      "cell_type": "markdown",
      "source": [
        "# 2. Beach Destination (Max Water temp > 21 ; Ideally  [25 - 28 C])\n",
        "\n",
        "Use \"https://www.seatemperature.org/\" as the source webpage. Water temperature in interest, not air temperature as for each 1 degree c increase in air means between 0.6 - 0.8 d.c increase in water temperature. In order to extract the water temperature per city per month, the following ulrs have to be extracted https://www.weather2visit.com/europe/sweden/malmoe-august.htm\n",
        "\n",
        "1) for a country from direct_flight_destinations df, create a weather_url dataframe for each city : <br/>https://www.weather2visit.com/africa/{country}/{city}\n",
        "2) Check if city in direct_flight_destinations is in weather_url <br/>\n",
        "3-a) if yes, extract he city url and format the url to return city_url of the travel month (i.e. June) <br/>\n",
        "-i.e. url = 'https://www.weather2visit.com{c}-{m}.htm'.format(c=city_based_on_travel_time,m = month)<br/>\n",
        "3-b) else check if the alternate names of the city is found in the filtered_cities_url_dict_from_weather_page and extract the city url and format the url to return city_url of the travel month (i.e. June)<br/>\n",
        "4) Parse and extract cities with 'Warmest sea' value > 21 C<br/>\n"
      ]
    },
    {
      "metadata": {
        "id": "tevugqktdZhS",
        "colab_type": "text"
      },
      "cell_type": "markdown",
      "source": [
        "## If seatemperature web's city name matches city names from direct_flight_destinations, create and update the weather_url dataframe"
      ]
    },
    {
      "metadata": {
        "id": "W93PRWjbdZhS",
        "colab_type": "code",
        "colab": {}
      },
      "cell_type": "code",
      "source": [
        "#fix the 403 access forbidden error by specifying user-agent \n",
        "\n",
        "url = 'https://www.weather2visit.com/country-list'\n",
        "headers = {'User-Agent': 'Mozilla/5.0 (Macintosh; Intel Mac OS X 10_11_5) AppleWebKit/537.36 (KHTML, like Gecko) Chrome/50.0.2661.102 Safari/537.36'}\n",
        "page_beach = requests.get(url, headers=headers)\n",
        "\n",
        "if page_beach.status_code != 200:\n",
        "    print('Water Temperature page loading Error')\n",
        "    \n",
        "#prase the HTML document into python object and beautify it\n",
        "soup_beach = BeautifulSoup(page_beach.content,'html.parser')"
      ],
      "execution_count": 0,
      "outputs": []
    },
    {
      "metadata": {
        "id": "OgmqcvaQdZhU",
        "colab_type": "code",
        "colab": {
          "base_uri": "https://localhost:8080/",
          "height": 103
        },
        "outputId": "dfd5b0b5-7401-4202-9881-3d502989eefa"
      },
      "cell_type": "code",
      "source": [
        "#navigate through an soup document via 'Tag' object 'a' to extract all country lists with continent\n",
        "sbfa = soup_beach.find_all('a')\n",
        "\n",
        "#find children inside li tag with href attribute\n",
        "countries_list = [item['href'] for item in sbfa if 'href' in item.attrs]\n",
        "\n",
        "import re\n",
        "regex = r'/{3}'\n",
        "filtered_countries_from_weather_page = []\n",
        "for item in countries_list:\n",
        "    #use regular expression to only parsing element with country information - element with 3 '/' i.e. '/africa/burundi/'\n",
        "    if (len(re.findall('/',item)) == 3):\n",
        "        country = item.split('/')[2]\n",
        "        if country.title() in direct_flight_destinations['Country'].unique():\n",
        "          filtered_countries_from_weather_page.append(item)\n",
        "\n",
        "countries_url_weather_page = pd.Series(filtered_countries_from_weather_page)\n",
        "countries_url_weather_page.describe()"
      ],
      "execution_count": 7,
      "outputs": [
        {
          "output_type": "execute_result",
          "data": {
            "text/plain": [
              "count                  41\n",
              "unique                 41\n",
              "top       /europe/france/\n",
              "freq                    1\n",
              "dtype: object"
            ]
          },
          "metadata": {
            "tags": []
          },
          "execution_count": 7
        }
      ]
    },
    {
      "metadata": {
        "id": "-LOtgAGLdZhX",
        "colab_type": "code",
        "colab": {
          "base_uri": "https://localhost:8080/",
          "height": 172
        },
        "outputId": "343692f4-2e0c-413f-872a-544d9d759ebd"
      },
      "cell_type": "code",
      "source": [
        "#ensure only the cities of the specified country is added to dictionary\n",
        "#loop through countries : https://www.weather2visit.com/africa/algeria/\n",
        "#create need {country:city_url} dictionary\n",
        "\n",
        "cities_list = []\n",
        "weather_url = pd.DataFrame(columns = ['City','City_url'])\n",
        "\n",
        "for country in filtered_countries_from_weather_page:\n",
        "    url = 'https://www.weather2visit.com{}'.format(country)\n",
        "    headers = {'User-Agent': 'Mozilla/5.0 (Macintosh; Intel Mac OS X 10_11_5) AppleWebKit/537.36 (KHTML, like Gecko) Chrome/50.0.2661.102 Safari/537.36'}\n",
        "    page_beach_country_city = requests.get(url, headers=headers)\n",
        "    soup_beach_country_city = BeautifulSoup(page_beach_country_city.content,'html.parser')   \n",
        "    \n",
        "    #navigate through an soup document via 'Tag' object 'a' to extract all country lists with continent\n",
        "    sbccfa = soup_beach_country_city.find_all('a')\n",
        "    cities_list = [item['href'] for item in sbccfa if 'href' in item.attrs]\n",
        "    cities_list = list(set(cities_list))\n",
        "    \n",
        "    for c in cities_list:\n",
        "        pattern = re.compile(country)\n",
        "        if pattern.match(c):\n",
        "            cityhtm = c.split('/')[3]\n",
        "            city = cityhtm.split('.')[0]\n",
        "            url = c.split('.')[0]\n",
        "            weather_url = weather_url.append({'City':city.title(), 'City_url' : url},ignore_index = True)\n",
        "\n",
        "weather_url['City'] = weather_url['City'].drop_duplicates()\n",
        "weather_url.describe()"
      ],
      "execution_count": 8,
      "outputs": [
        {
          "output_type": "execute_result",
          "data": {
            "text/html": [
              "<div>\n",
              "<style scoped>\n",
              "    .dataframe tbody tr th:only-of-type {\n",
              "        vertical-align: middle;\n",
              "    }\n",
              "\n",
              "    .dataframe tbody tr th {\n",
              "        vertical-align: top;\n",
              "    }\n",
              "\n",
              "    .dataframe thead th {\n",
              "        text-align: right;\n",
              "    }\n",
              "</style>\n",
              "<table border=\"1\" class=\"dataframe\">\n",
              "  <thead>\n",
              "    <tr style=\"text-align: right;\">\n",
              "      <th></th>\n",
              "      <th>City</th>\n",
              "      <th>City_url</th>\n",
              "    </tr>\n",
              "  </thead>\n",
              "  <tbody>\n",
              "    <tr>\n",
              "      <th>count</th>\n",
              "      <td>1978</td>\n",
              "      <td>1990</td>\n",
              "    </tr>\n",
              "    <tr>\n",
              "      <th>unique</th>\n",
              "      <td>1978</td>\n",
              "      <td>1990</td>\n",
              "    </tr>\n",
              "    <tr>\n",
              "      <th>top</th>\n",
              "      <td>Erzincan</td>\n",
              "      <td>/europe/ireland/cluain-meala</td>\n",
              "    </tr>\n",
              "    <tr>\n",
              "      <th>freq</th>\n",
              "      <td>1</td>\n",
              "      <td>1</td>\n",
              "    </tr>\n",
              "  </tbody>\n",
              "</table>\n",
              "</div>"
            ],
            "text/plain": [
              "            City                      City_url\n",
              "count       1978                          1990\n",
              "unique      1978                          1990\n",
              "top     Erzincan  /europe/ireland/cluain-meala\n",
              "freq           1                             1"
            ]
          },
          "metadata": {
            "tags": []
          },
          "execution_count": 8
        }
      ]
    },
    {
      "metadata": {
        "id": "4CUp8Qc1dZhZ",
        "colab_type": "text"
      },
      "cell_type": "markdown",
      "source": [
        "## Check if city in direct_flight_destinations is in weather_url <br/>\n"
      ]
    },
    {
      "metadata": {
        "id": "VMv3uAl-dZha",
        "colab_type": "code",
        "colab": {
          "base_uri": "https://localhost:8080/",
          "height": 1972
        },
        "outputId": "9bfe44ad-d4e2-4137-8b4e-6acd797f074e"
      },
      "cell_type": "code",
      "source": [
        "# url = 'https://www.weather2visit.com{c}-{m}.htm'.format(c=city_based_on_travel_time,m = month)\n",
        "#https://www.weather2visit.com/europe/sweden/malmoe-august.htm\n",
        "\n",
        "url = ''\n",
        "city_june_url = pd.DataFrame(columns = ['City','City_url'])\n",
        "alt_filtered_cities = pd.DataFrame(columns = ['City','Country'])\n",
        "\n",
        "#means city and city_u are not the same\n",
        "for city in direct_flight_destinations['City']: \n",
        "    if city in weather_url['City'].unique():\n",
        "        url = weather_url[weather_url['City'] == city]['City_url'].to_string(index=False)\n",
        "        url = url.strip()\n",
        "        city_june_url = city_june_url.append({'City':city, 'City_url' : 'https://www.weather2visit.com{c}-{m}.htm'.format(c=url,m = month)},ignore_index = True)\n",
        "        print('https://www.weather2visit.com{c}-{m}.htm'.format(c=url,m = month))\n",
        "    else:\n",
        "        alt_filtered_cities = alt_filtered_cities.append({'City': city, 'Country': direct_flight_destinations[direct_flight_destinations['City'] == city]['Country']},ignore_index =True)\n",
        "        \n",
        "city_june_url.describe()"
      ],
      "execution_count": 9,
      "outputs": [
        {
          "output_type": "stream",
          "text": [
            "https://www.weather2visit.com/europe/denmark/aalborg-june.htm\n",
            "https://www.weather2visit.com/africa/morocco/agadir-june.htm\n",
            "https://www.weather2visit.com/middle-east/turkey/alanya-june.htm\n",
            "https://www.weather2visit.com/europe/norway/alesund-june.htm\n",
            "https://www.weather2visit.com/europe/spain/alicante-june.htm\n",
            "https://www.weather2visit.com/middle-east/jordan/amman-june.htm\n",
            "https://www.weather2visit.com/europe/netherlands/amsterdam-june.htm\n",
            "https://www.weather2visit.com/middle-east/turkey/ankara-june.htm\n",
            "https://www.weather2visit.com/middle-east/turkey/antalya/-june.htm\n",
            "https://www.weather2visit.com/middle-east/jordan/aqaba-june.htm\n",
            "https://www.weather2visit.com/europe/greece/athens-june.htm\n",
            "https://www.weather2visit.com/middle-east/iraq/baghdad-june.htm\n",
            "https://www.weather2visit.com/europe/spain/barcelona-june.htm\n",
            "https://www.weather2visit.com/europe/switzerland/basel-june.htm\n",
            "https://www.weather2visit.com/europe/france/bastia-june.htm\n",
            "https://www.weather2visit.com/middle-east/lebanon/beirut-june.htm\n",
            "https://www.weather2visit.com/europe/italy/bergamo-june.htm\n",
            "https://www.weather2visit.com/europe/norway/bergen-june.htm\n",
            "https://www.weather2visit.com/europe/germany/berlin-june.htm\n",
            "https://www.weather2visit.com/europe/france/biarritz-june.htm\n",
            "https://www.weather2visit.com/europe/italy/bologna-june.htm\n",
            "https://www.weather2visit.com/europe/france/bordeaux-june.htm\n",
            "https://www.weather2visit.com/europe/belgium/brussels-june.htm\n",
            "https://www.weather2visit.com/europe/romania/bucharest-june.htm\n",
            "https://www.weather2visit.com/europe/hungary/budapest-june.htm\n",
            "https://www.weather2visit.com/africa/egypt/cairo-june.htm\n",
            "https://www.weather2visit.com/africa/morocco/casablanca-june.htm\n",
            "https://www.weather2visit.com/europe/italy/catania-june.htm\n",
            "https://www.weather2visit.com/europe/greece/chania-june.htm\n",
            "https://www.weather2visit.com/europe/moldova/chisinau-june.htm\n",
            "https://www.weather2visit.com/europe/ireland/dublin-june.htm\n",
            "https://www.weather2visit.com/europe/croatia/dubrovnik-june.htm\n",
            "https://www.weather2visit.com/europe/germany/dusseldorf-june.htm\n",
            "https://www.weather2visit.com/europe/netherlands/eindhoven-june.htm\n",
            "https://www.weather2visit.com/middle-east/iraq/erbil-june.htm\n",
            "https://www.weather2visit.com/europe/portugal/faro-june.htm\n",
            "https://www.weather2visit.com/europe/italy/firenze-june.htm\n",
            "https://www.weather2visit.com/europe/portugal/funchal-june.htm\n",
            "https://www.weather2visit.com/europe/poland/gdansk-june.htm\n",
            "https://www.weather2visit.com/europe/germany/hamburg-june.htm\n",
            "https://www.weather2visit.com/europe/finland/helsinki-june.htm\n",
            "https://www.weather2visit.com/europe/spain/ibiza/-june.htm\n",
            "https://www.weather2visit.com/middle-east/turkey/istanbul-june.htm\n",
            "https://www.weather2visit.com/middle-east/turkey/izmir-june.htm\n",
            "https://www.weather2visit.com/europe/greece/kalamata-june.htm\n",
            "https://www.weather2visit.com/europe/lithuania/kaunas-june.htm\n",
            "https://www.weather2visit.com/middle-east/turkey/kayseri-june.htm\n",
            "https://www.weather2visit.com/europe/iceland/keflavik-june.htm\n",
            "https://www.weather2visit.com/europe/ukraine/kiev-june.htm\n",
            "https://www.weather2visit.com/middle-east/turkey/konya-june.htm\n",
            "https://www.weather2visit.com/europe/greece/kos/-june.htm\n",
            "https://www.weather2visit.com/europe/poland/krakow-june.htm\n",
            "https://www.weather2visit.com/europe/norway/kristiansand-june.htm\n",
            "https://www.weather2visit.com/europe/cyprus/larnaca-june.htm\n",
            "https://www.weather2visit.com/europe/portugal/lisbon-june.htm\n",
            "https://www.weather2visit.com/europe/slovenia/ljubljana-june.htm\n",
            "https://www.weather2visit.com/europe/france/lyon-june.htm\n",
            "https://www.weather2visit.com/europe/spain/madrid-june.htm\n",
            "https://www.weather2visit.com/europe/spain/malaga-june.htm\n",
            "https://www.weather2visit.com/europe/france/marseille-june.htm\n",
            "https://www.weather2visit.com/europe/italy/milano-june.htm\n",
            "https://www.weather2visit.com/africa/tunisia/monastir-june.htm\n",
            "https://www.weather2visit.com/europe/france/montpellier-june.htm\n",
            "https://www.weather2visit.com/europe/france/nantes-june.htm\n",
            "https://www.weather2visit.com/europe/france/nice-june.htm\n",
            "https://www.weather2visit.com/europe/italy/olbia-june.htm\n",
            "https://www.weather2visit.com/europe/norway/oslo-june.htm\n",
            "https://www.weather2visit.com/europe/italy/palermo-june.htm\n",
            "https://www.weather2visit.com/europe/france/paris-june.htm\n",
            "https://www.weather2visit.com/europe/italy/pisa-june.htm\n",
            "https://www.weather2visit.com/europe/portugal/porto-june.htm\n",
            "https://www.weather2visit.com/europe/poland/poznan-june.htm\n",
            "https://www.weather2visit.com/europe/greece/preveza-june.htm\n",
            "https://www.weather2visit.com/europe/croatia/pula-june.htm\n",
            "https://www.weather2visit.com/europe/greece/rhodes/-june.htm\n",
            "https://www.weather2visit.com/europe/latvia/riga-june.htm\n",
            "https://www.weather2visit.com/europe/italy/rome-june.htm\n",
            "https://www.weather2visit.com/europe/austria/salzburg-june.htm\n",
            "https://www.weather2visit.com/europe/spain/sevilla-june.htm\n",
            "https://www.weather2visit.com/europe/romania/sibiu-june.htm\n",
            "https://www.weather2visit.com/europe/macedonia/skopje-june.htm\n",
            "https://www.weather2visit.com/europe/bulgaria/sofia-june.htm\n",
            "https://www.weather2visit.com/europe/denmark/sonderborg-june.htm\n",
            "https://www.weather2visit.com/europe/croatia/split-june.htm\n",
            "https://www.weather2visit.com/europe/norway/stavanger-june.htm\n",
            "https://www.weather2visit.com/europe/sweden/stockholm-june.htm\n",
            "https://www.weather2visit.com/europe/germany/stuttgart-june.htm\n",
            "https://www.weather2visit.com/europe/poland/szczecin-june.htm\n",
            "https://www.weather2visit.com/europe/estonia/tallinn-june.htm\n",
            "https://www.weather2visit.com/europe/spain/tenerife/-june.htm\n",
            "https://www.weather2visit.com/europe/greece/thessaloniki-june.htm\n",
            "https://www.weather2visit.com/europe/albania/tirana-june.htm\n",
            "https://www.weather2visit.com/europe/france/toulouse-june.htm\n",
            "https://www.weather2visit.com/europe/norway/tromso-june.htm\n",
            "https://www.weather2visit.com/europe/norway/trondheim-june.htm\n",
            "https://www.weather2visit.com/europe/spain/valencia-june.htm\n",
            "https://www.weather2visit.com/europe/malta/valletta-june.htm\n",
            "https://www.weather2visit.com/europe/bulgaria/varna-june.htm\n",
            "https://www.weather2visit.com/europe/italy/venice-june.htm\n",
            "https://www.weather2visit.com/europe/austria/vienna-june.htm\n",
            "https://www.weather2visit.com/europe/lithuania/vilnius-june.htm\n",
            "https://www.weather2visit.com/europe/poland/warsaw-june.htm\n",
            "https://www.weather2visit.com/europe/poland/wroclaw-june.htm\n",
            "https://www.weather2visit.com/europe/croatia/zagreb-june.htm\n",
            "https://www.weather2visit.com/europe/switzerland/zurich-june.htm\n"
          ],
          "name": "stdout"
        },
        {
          "output_type": "execute_result",
          "data": {
            "text/html": [
              "<div>\n",
              "<style scoped>\n",
              "    .dataframe tbody tr th:only-of-type {\n",
              "        vertical-align: middle;\n",
              "    }\n",
              "\n",
              "    .dataframe tbody tr th {\n",
              "        vertical-align: top;\n",
              "    }\n",
              "\n",
              "    .dataframe thead th {\n",
              "        text-align: right;\n",
              "    }\n",
              "</style>\n",
              "<table border=\"1\" class=\"dataframe\">\n",
              "  <thead>\n",
              "    <tr style=\"text-align: right;\">\n",
              "      <th></th>\n",
              "      <th>City</th>\n",
              "      <th>City_url</th>\n",
              "    </tr>\n",
              "  </thead>\n",
              "  <tbody>\n",
              "    <tr>\n",
              "      <th>count</th>\n",
              "      <td>105</td>\n",
              "      <td>105</td>\n",
              "    </tr>\n",
              "    <tr>\n",
              "      <th>unique</th>\n",
              "      <td>105</td>\n",
              "      <td>105</td>\n",
              "    </tr>\n",
              "    <tr>\n",
              "      <th>top</th>\n",
              "      <td>Monastir</td>\n",
              "      <td>https://www.weather2visit.com/europe/italy/rom...</td>\n",
              "    </tr>\n",
              "    <tr>\n",
              "      <th>freq</th>\n",
              "      <td>1</td>\n",
              "      <td>1</td>\n",
              "    </tr>\n",
              "  </tbody>\n",
              "</table>\n",
              "</div>"
            ],
            "text/plain": [
              "            City                                           City_url\n",
              "count        105                                                105\n",
              "unique       105                                                105\n",
              "top     Monastir  https://www.weather2visit.com/europe/italy/rom...\n",
              "freq           1                                                  1"
            ]
          },
          "metadata": {
            "tags": []
          },
          "execution_count": 9
        }
      ]
    },
    {
      "metadata": {
        "id": "iwpNx2IL4Wjc",
        "colab_type": "code",
        "colab": {
          "base_uri": "https://localhost:8080/",
          "height": 203
        },
        "outputId": "efe8c095-0875-42fc-bcc7-243fc33f32c8"
      },
      "cell_type": "code",
      "source": [
        "city_june_url.head()"
      ],
      "execution_count": 10,
      "outputs": [
        {
          "output_type": "execute_result",
          "data": {
            "text/html": [
              "<div>\n",
              "<style scoped>\n",
              "    .dataframe tbody tr th:only-of-type {\n",
              "        vertical-align: middle;\n",
              "    }\n",
              "\n",
              "    .dataframe tbody tr th {\n",
              "        vertical-align: top;\n",
              "    }\n",
              "\n",
              "    .dataframe thead th {\n",
              "        text-align: right;\n",
              "    }\n",
              "</style>\n",
              "<table border=\"1\" class=\"dataframe\">\n",
              "  <thead>\n",
              "    <tr style=\"text-align: right;\">\n",
              "      <th></th>\n",
              "      <th>City</th>\n",
              "      <th>City_url</th>\n",
              "    </tr>\n",
              "  </thead>\n",
              "  <tbody>\n",
              "    <tr>\n",
              "      <th>0</th>\n",
              "      <td>Aalborg</td>\n",
              "      <td>https://www.weather2visit.com/europe/denmark/a...</td>\n",
              "    </tr>\n",
              "    <tr>\n",
              "      <th>1</th>\n",
              "      <td>Agadir</td>\n",
              "      <td>https://www.weather2visit.com/africa/morocco/a...</td>\n",
              "    </tr>\n",
              "    <tr>\n",
              "      <th>2</th>\n",
              "      <td>Alanya</td>\n",
              "      <td>https://www.weather2visit.com/middle-east/turk...</td>\n",
              "    </tr>\n",
              "    <tr>\n",
              "      <th>3</th>\n",
              "      <td>Alesund</td>\n",
              "      <td>https://www.weather2visit.com/europe/norway/al...</td>\n",
              "    </tr>\n",
              "    <tr>\n",
              "      <th>4</th>\n",
              "      <td>Alicante</td>\n",
              "      <td>https://www.weather2visit.com/europe/spain/ali...</td>\n",
              "    </tr>\n",
              "  </tbody>\n",
              "</table>\n",
              "</div>"
            ],
            "text/plain": [
              "       City                                           City_url\n",
              "0   Aalborg  https://www.weather2visit.com/europe/denmark/a...\n",
              "1    Agadir  https://www.weather2visit.com/africa/morocco/a...\n",
              "2    Alanya  https://www.weather2visit.com/middle-east/turk...\n",
              "3   Alesund  https://www.weather2visit.com/europe/norway/al...\n",
              "4  Alicante  https://www.weather2visit.com/europe/spain/ali..."
            ]
          },
          "metadata": {
            "tags": []
          },
          "execution_count": 10
        }
      ]
    },
    {
      "metadata": {
        "colab_type": "code",
        "outputId": "89d4d205-b568-4ed7-e123-adcbbcd6a667",
        "id": "5DkGXHItbasp",
        "colab": {
          "base_uri": "https://localhost:8080/",
          "height": 172
        }
      },
      "cell_type": "code",
      "source": [
        "city_june_url.describe()"
      ],
      "execution_count": 11,
      "outputs": [
        {
          "output_type": "execute_result",
          "data": {
            "text/html": [
              "<div>\n",
              "<style scoped>\n",
              "    .dataframe tbody tr th:only-of-type {\n",
              "        vertical-align: middle;\n",
              "    }\n",
              "\n",
              "    .dataframe tbody tr th {\n",
              "        vertical-align: top;\n",
              "    }\n",
              "\n",
              "    .dataframe thead th {\n",
              "        text-align: right;\n",
              "    }\n",
              "</style>\n",
              "<table border=\"1\" class=\"dataframe\">\n",
              "  <thead>\n",
              "    <tr style=\"text-align: right;\">\n",
              "      <th></th>\n",
              "      <th>City</th>\n",
              "      <th>City_url</th>\n",
              "    </tr>\n",
              "  </thead>\n",
              "  <tbody>\n",
              "    <tr>\n",
              "      <th>count</th>\n",
              "      <td>105</td>\n",
              "      <td>105</td>\n",
              "    </tr>\n",
              "    <tr>\n",
              "      <th>unique</th>\n",
              "      <td>105</td>\n",
              "      <td>105</td>\n",
              "    </tr>\n",
              "    <tr>\n",
              "      <th>top</th>\n",
              "      <td>Monastir</td>\n",
              "      <td>https://www.weather2visit.com/europe/italy/rom...</td>\n",
              "    </tr>\n",
              "    <tr>\n",
              "      <th>freq</th>\n",
              "      <td>1</td>\n",
              "      <td>1</td>\n",
              "    </tr>\n",
              "  </tbody>\n",
              "</table>\n",
              "</div>"
            ],
            "text/plain": [
              "            City                                           City_url\n",
              "count        105                                                105\n",
              "unique       105                                                105\n",
              "top     Monastir  https://www.weather2visit.com/europe/italy/rom...\n",
              "freq           1                                                  1"
            ]
          },
          "metadata": {
            "tags": []
          },
          "execution_count": 11
        }
      ]
    },
    {
      "metadata": {
        "id": "a7I1OJKJ9g58",
        "colab_type": "text"
      },
      "cell_type": "markdown",
      "source": [
        "## For the 51 of the cities with alternate name (no matching weather url), check if the alternate names of the city could be matched to extract cities_url_dict_from_weather_page\n",
        "- https://www.kaggle.com/geonames/geonames-database\n",
        "- https://www.kaggle.com/leighplt/country-code\n",
        "- set ascii name as the index column"
      ]
    },
    {
      "metadata": {
        "id": "2zAbSyGidZhc",
        "colab_type": "code",
        "colab": {},
        "cellView": "both"
      },
      "cell_type": "code",
      "source": [
        "#@title\n",
        "from google.colab import files\n",
        "uploaded = files.upload()\n",
        "import io\n",
        "geo_name = pd.read_csv(io.BytesIO(uploaded['geonames.csv']),header=0,index_col = 'asciiname')\n",
        "geo_name = geo_name.dropna(subset=['alternatenames'])\n",
        "geo_name = geo_name[['alternatenames','countryname']]\n"
      ],
      "execution_count": 0,
      "outputs": []
    },
    {
      "metadata": {
        "id": "R_Osa92adZhm",
        "colab_type": "code",
        "colab": {},
        "cellView": "form"
      },
      "cell_type": "code",
      "source": [
        "#@title\n",
        "#city_based_on_travel format = {city:country} to check if the city name exists within the alternatename list with the \n",
        "#matching country name\n",
        "#print(type(geo_name['alternatenames']))\n",
        "\n",
        "table_city_alt_names = pd.DataFrame(columns = ['alternatenames','countryname'])\n",
        "appended_data = []\n",
        "\n",
        "for city in alt_filtered_cities['City']:\n",
        "    table_alt_city = geo_name[(geo_name['alternatenames'].str.contains(city))]\n",
        "    #print(table_alt_city)\n",
        "    #print(table_city_alt_names)\n",
        "    appended_data.append(table_city_alt_names)\n",
        "    \n",
        "table_city_alt_names = pd.concat(appended_data)\n",
        "table_city_alt_names.describe()"
      ],
      "execution_count": 0,
      "outputs": []
    },
    {
      "metadata": {
        "id": "cFp49g6mdZhp",
        "colab_type": "code",
        "colab": {},
        "cellView": "form"
      },
      "cell_type": "code",
      "source": [
        "#@title\n",
        "table_city_alt_names.head()"
      ],
      "execution_count": 0,
      "outputs": []
    },
    {
      "metadata": {
        "id": "YQwEzPa3dZhs",
        "colab_type": "code",
        "colab": {},
        "cellView": "form"
      },
      "cell_type": "code",
      "source": [
        "#@title\n",
        "#need to check if city_u is within the altname of the selected cities\n",
        "#filtered_cities_url_dict_from_weather_page - 'Sibenik': ['/europe/croatia/sibenik.htm']\n",
        "\n",
        "for city_alt in table_city_alt_names:\n",
        "    for city_s in city_alt.split(';'):\n",
        "        if city_s in weather_url['City']:\n",
        "            url = (filtered_cities_url_dict_from_weather_page[city_s])[0]\n",
        "            url_c = url.split('.')[0]\n",
        "            print(url_c)\n",
        "            city_june_url = city_june_url.append({'City':city_s, 'City_url' : 'https://www.weather2visit.com{c}-{m}.htm'.format(c=url_c,m = month)},ignore_index = True)\n",
        "    \n",
        "#max city_within_max_flight_time.keys() - city_june_url.keys(): MMX CPH, June, 350m case: len(city_june_url_alt) = 54\n",
        "city_june_url.describe()        "
      ],
      "execution_count": 0,
      "outputs": []
    },
    {
      "metadata": {
        "id": "MB5SHHtIdZhv",
        "colab_type": "code",
        "colab": {},
        "cellView": "form"
      },
      "cell_type": "code",
      "source": [
        "#@title\n",
        "# max city number: 162\n",
        "#['Beograd', 'Bucharest', 'Budapest', 'Cluj-Napoca', 'Gdansk', 'Katowice', 'Krakow', 'Nis', 'Ohrid', 'Ostersund', 'Palma De Mallorca', 'Skopje', 'Stockholm', 'Tuzla', 'Vienna', 'Visby', 'Warsaw', 'Aalborg', 'Aarhus', 'Aberdeen', 'Agadir', 'Alanya', 'Alesund', 'Alicante', 'Amman', 'Amsterdam', 'Ankara', 'Antalya', 'Aqaba', 'Athens', 'Baghdad', 'Barcelona', 'Basel', 'Bastia', 'Beirut', 'Bergamo', 'Bergen', 'Berlin', 'Biarritz', 'Billund', 'Birmingham', 'Bologna', 'Bordeaux', 'Bourgas', 'Bristol', 'Brussels', 'Cairo', 'Casablanca', 'Catania', 'Chania', 'Chisinau', 'Cologne', 'Dublin', 'Dubrovnik', 'Dusseldorf', 'Edinburgh', 'Eindhoven', 'Erbil', 'Faro', 'Firenze', 'Frankfurt', 'Funchal', 'Geneva', 'Genoa', 'Gothenburg', 'Hamburg', 'Hanover', 'Helsinki', 'Heraklion', 'Hurghada', 'Ibiza', 'Istanbul', 'Izmir', 'Kalamata', 'Karup', 'Kaunas', 'Kayseri', 'Keflavik', 'Kiev', 'Konya', 'Korfu', 'Kos', 'Kristiansand', 'Kutaisi', 'Larnaca', 'Las Palmas', 'Leeds', 'Lisbon', 'Liverpool', 'Ljubljana', 'London', 'Luxemburg', 'Lvov', 'Lyon', 'Madrid', 'Malaga', 'Manchester', 'Marrakech', 'Marseille', 'Milan', 'Milano', 'Monastir', 'Montpellier', 'Moscow', 'Munich', 'Najaf', 'Nantes', 'Naples', 'Narssarssuaq', 'Newcastle', 'Newquay', 'Nice', 'Nottingham', 'Olbia', 'Oslo', 'Palanga', 'Palermo', 'Paris', 'Pisa', 'Podgorica', 'Porto', 'Poznan', 'Prague', 'Preveza', 'Pristina', 'Pula', 'Rhodes', 'Riga', 'Rome', 'Ronne', 'Salzburg', 'Sarajevo', 'Sevilla', 'Sharm El-Sheikh', 'Sibiu', 'Sofia', 'Sonderborg', 'Sondre Stromfjord', 'Southend', 'Split', 'Stavanger', 'Stuttgart', 'Szczecin', 'Tallinn', 'Tel Aviv', 'Tenerife', 'Thessaloniki', 'Thira', 'Tirana', 'Torp', 'Torshavn', 'Toulouse', 'Tromso', 'Trondheim', 'Valencia', 'Valletta', 'Varna', 'Venice', 'Vilnius', 'Wroclaw', 'Zagreb', 'Zurich']\n",
        "\n",
        "city_june_url.describe()        \n"
      ],
      "execution_count": 0,
      "outputs": []
    },
    {
      "metadata": {
        "id": "WrS8-qJAdZhx",
        "colab_type": "code",
        "colab": {
          "base_uri": "https://localhost:8080/",
          "height": 295
        },
        "outputId": "e8044d3b-9654-4652-82f8-126aa2ec5071"
      },
      "cell_type": "code",
      "source": [
        "#4. parse sea temperature in c per city url as a dictionary city_june_url\n",
        "#https://www.weather2visit.com/europe/sweden/malmoe-august.htm\n",
        "june_selected_city_list = []\n",
        "\n",
        "for c_url in city_june_url['City_url']:\n",
        "  #print(c_url)\n",
        "  page_june_selected_city = requests.get(c_url, headers=headers)\n",
        "  soup_june_selected_city = BeautifulSoup(page_june_selected_city.content,'html.parser')\n",
        "    \n",
        "  sjsc = soup_june_selected_city.find_all('span', class_='cen')\n",
        "    \n",
        "  #print(type(sjsc[4])) - <class 'bs4.element.Tag'>\n",
        "  #print(sjsc[4]) - format- <span class=\"cen\">16.6<span class=\"unit\">°C</span></span>\n",
        "  tag_string = ''\n",
        "  if len(sjsc) == 6:\n",
        "    for item in sjsc[3]:\n",
        "      tag_string += str(item)\n",
        "      #print(tag_string) - format - 16.6<span class=\"unit\">°C</span>\n",
        "      temp = float(tag_string.split('<')[0])\n",
        "      #print(temp)\n",
        "      june_selected_city_list.append(temp)\n",
        "\n",
        "june_selected_city = pd.Series(june_selected_city_list)\n",
        "city_june_url['Water Temp'] = june_selected_city\n",
        "city_june_url.describe()"
      ],
      "execution_count": 13,
      "outputs": [
        {
          "output_type": "execute_result",
          "data": {
            "text/html": [
              "<div>\n",
              "<style scoped>\n",
              "    .dataframe tbody tr th:only-of-type {\n",
              "        vertical-align: middle;\n",
              "    }\n",
              "\n",
              "    .dataframe tbody tr th {\n",
              "        vertical-align: top;\n",
              "    }\n",
              "\n",
              "    .dataframe thead th {\n",
              "        text-align: right;\n",
              "    }\n",
              "</style>\n",
              "<table border=\"1\" class=\"dataframe\">\n",
              "  <thead>\n",
              "    <tr style=\"text-align: right;\">\n",
              "      <th></th>\n",
              "      <th>Water Temp</th>\n",
              "    </tr>\n",
              "  </thead>\n",
              "  <tbody>\n",
              "    <tr>\n",
              "      <th>count</th>\n",
              "      <td>105.000000</td>\n",
              "    </tr>\n",
              "    <tr>\n",
              "      <th>mean</th>\n",
              "      <td>19.080000</td>\n",
              "    </tr>\n",
              "    <tr>\n",
              "      <th>std</th>\n",
              "      <td>4.393973</td>\n",
              "    </tr>\n",
              "    <tr>\n",
              "      <th>min</th>\n",
              "      <td>8.500000</td>\n",
              "    </tr>\n",
              "    <tr>\n",
              "      <th>25%</th>\n",
              "      <td>15.000000</td>\n",
              "    </tr>\n",
              "    <tr>\n",
              "      <th>50%</th>\n",
              "      <td>20.600000</td>\n",
              "    </tr>\n",
              "    <tr>\n",
              "      <th>75%</th>\n",
              "      <td>22.100000</td>\n",
              "    </tr>\n",
              "    <tr>\n",
              "      <th>max</th>\n",
              "      <td>25.700000</td>\n",
              "    </tr>\n",
              "  </tbody>\n",
              "</table>\n",
              "</div>"
            ],
            "text/plain": [
              "       Water Temp\n",
              "count  105.000000\n",
              "mean    19.080000\n",
              "std      4.393973\n",
              "min      8.500000\n",
              "25%     15.000000\n",
              "50%     20.600000\n",
              "75%     22.100000\n",
              "max     25.700000"
            ]
          },
          "metadata": {
            "tags": []
          },
          "execution_count": 13
        }
      ]
    },
    {
      "metadata": {
        "id": "hzbTGnVWdZh1",
        "colab_type": "text"
      },
      "cell_type": "markdown",
      "source": [
        "# 3. Sort data according to Beer Index (0.5 liter draught at restaurant) in sek\n",
        "\n",
        "Use \"https://www.numbeo.com/\" as the source webpage\n"
      ]
    },
    {
      "metadata": {
        "id": "ogczcvgLdZh3",
        "colab_type": "code",
        "colab": {
          "base_uri": "https://localhost:8080/",
          "height": 295
        },
        "outputId": "514d8615-7744-46ac-c027-e0ae2845f637"
      },
      "cell_type": "code",
      "source": [
        "june_selected_beer_list = []\n",
        "\n",
        "for city in city_june_url['City']:\n",
        "    beer_url = 'https://www.numbeo.com/cost-of-living/in/{}?displayCurrency=SEK'.format(city)\n",
        "    #print(beer_url)\n",
        "    page_june_selected_beer_dict = requests.get(beer_url, headers=headers)\n",
        "    soup_june_selected_beer_dict= BeautifulSoup(page_june_selected_beer_dict.content,'html.parser')\n",
        "    \n",
        "    sjsb = soup_june_selected_beer_dict.find_all('td', class_='priceValue tr_highlighted')\n",
        "    \n",
        "    tag_string = ''\n",
        "    if len(sjsb) == 26:\n",
        "        for item in sjsb[1]:\n",
        "            tag_string += str(item)\n",
        "        #print(tag_string)-47.01 kr\n",
        "        beer_sek = float(tag_string.split()[0])\n",
        "        june_selected_beer_list.append(beer_sek)\n",
        "        \n",
        "june_selected_beer = pd.Series(june_selected_beer_list)\n",
        "city_june_url['0.5L Draft Beer[SEK]'] = june_selected_beer\n",
        "city_june_url.describe()"
      ],
      "execution_count": 14,
      "outputs": [
        {
          "output_type": "execute_result",
          "data": {
            "text/html": [
              "<div>\n",
              "<style scoped>\n",
              "    .dataframe tbody tr th:only-of-type {\n",
              "        vertical-align: middle;\n",
              "    }\n",
              "\n",
              "    .dataframe tbody tr th {\n",
              "        vertical-align: top;\n",
              "    }\n",
              "\n",
              "    .dataframe thead th {\n",
              "        text-align: right;\n",
              "    }\n",
              "</style>\n",
              "<table border=\"1\" class=\"dataframe\">\n",
              "  <thead>\n",
              "    <tr style=\"text-align: right;\">\n",
              "      <th></th>\n",
              "      <th>Water Temp</th>\n",
              "      <th>0.5L Draft Beer[SEK]</th>\n",
              "    </tr>\n",
              "  </thead>\n",
              "  <tbody>\n",
              "    <tr>\n",
              "      <th>count</th>\n",
              "      <td>105.000000</td>\n",
              "      <td>89.000000</td>\n",
              "    </tr>\n",
              "    <tr>\n",
              "      <th>mean</th>\n",
              "      <td>19.080000</td>\n",
              "      <td>40.228764</td>\n",
              "    </tr>\n",
              "    <tr>\n",
              "      <th>std</th>\n",
              "      <td>4.393973</td>\n",
              "      <td>22.859291</td>\n",
              "    </tr>\n",
              "    <tr>\n",
              "      <th>min</th>\n",
              "      <td>8.500000</td>\n",
              "      <td>9.600000</td>\n",
              "    </tr>\n",
              "    <tr>\n",
              "      <th>25%</th>\n",
              "      <td>15.000000</td>\n",
              "      <td>21.460000</td>\n",
              "    </tr>\n",
              "    <tr>\n",
              "      <th>50%</th>\n",
              "      <td>20.600000</td>\n",
              "      <td>32.910000</td>\n",
              "    </tr>\n",
              "    <tr>\n",
              "      <th>75%</th>\n",
              "      <td>22.100000</td>\n",
              "      <td>53.070000</td>\n",
              "    </tr>\n",
              "    <tr>\n",
              "      <th>max</th>\n",
              "      <td>25.700000</td>\n",
              "      <td>97.860000</td>\n",
              "    </tr>\n",
              "  </tbody>\n",
              "</table>\n",
              "</div>"
            ],
            "text/plain": [
              "       Water Temp  0.5L Draft Beer[SEK]\n",
              "count  105.000000             89.000000\n",
              "mean    19.080000             40.228764\n",
              "std      4.393973             22.859291\n",
              "min      8.500000              9.600000\n",
              "25%     15.000000             21.460000\n",
              "50%     20.600000             32.910000\n",
              "75%     22.100000             53.070000\n",
              "max     25.700000             97.860000"
            ]
          },
          "metadata": {
            "tags": []
          },
          "execution_count": 14
        }
      ]
    },
    {
      "metadata": {
        "id": "U7yahPh6juFL",
        "colab_type": "code",
        "colab": {
          "base_uri": "https://localhost:8080/",
          "height": 542
        },
        "outputId": "1bb4d94e-7d77-42e1-97fa-c37a524e45bf"
      },
      "cell_type": "code",
      "source": [
        "city_june_url[city_june_url['0.5L Draft Beer[SEK]'].isna()]"
      ],
      "execution_count": 15,
      "outputs": [
        {
          "output_type": "execute_result",
          "data": {
            "text/html": [
              "<div>\n",
              "<style scoped>\n",
              "    .dataframe tbody tr th:only-of-type {\n",
              "        vertical-align: middle;\n",
              "    }\n",
              "\n",
              "    .dataframe tbody tr th {\n",
              "        vertical-align: top;\n",
              "    }\n",
              "\n",
              "    .dataframe thead th {\n",
              "        text-align: right;\n",
              "    }\n",
              "</style>\n",
              "<table border=\"1\" class=\"dataframe\">\n",
              "  <thead>\n",
              "    <tr style=\"text-align: right;\">\n",
              "      <th></th>\n",
              "      <th>City</th>\n",
              "      <th>City_url</th>\n",
              "      <th>Water Temp</th>\n",
              "      <th>0.5L Draft Beer[SEK]</th>\n",
              "    </tr>\n",
              "  </thead>\n",
              "  <tbody>\n",
              "    <tr>\n",
              "      <th>89</th>\n",
              "      <td>Tenerife</td>\n",
              "      <td>https://www.weather2visit.com/europe/spain/ten...</td>\n",
              "      <td>23.2</td>\n",
              "      <td>NaN</td>\n",
              "    </tr>\n",
              "    <tr>\n",
              "      <th>90</th>\n",
              "      <td>Thessaloniki</td>\n",
              "      <td>https://www.weather2visit.com/europe/greece/th...</td>\n",
              "      <td>8.5</td>\n",
              "      <td>NaN</td>\n",
              "    </tr>\n",
              "    <tr>\n",
              "      <th>91</th>\n",
              "      <td>Tirana</td>\n",
              "      <td>https://www.weather2visit.com/europe/albania/t...</td>\n",
              "      <td>8.5</td>\n",
              "      <td>NaN</td>\n",
              "    </tr>\n",
              "    <tr>\n",
              "      <th>92</th>\n",
              "      <td>Toulouse</td>\n",
              "      <td>https://www.weather2visit.com/europe/france/to...</td>\n",
              "      <td>17.1</td>\n",
              "      <td>NaN</td>\n",
              "    </tr>\n",
              "    <tr>\n",
              "      <th>93</th>\n",
              "      <td>Tromso</td>\n",
              "      <td>https://www.weather2visit.com/europe/norway/tr...</td>\n",
              "      <td>17.1</td>\n",
              "      <td>NaN</td>\n",
              "    </tr>\n",
              "    <tr>\n",
              "      <th>94</th>\n",
              "      <td>Trondheim</td>\n",
              "      <td>https://www.weather2visit.com/europe/norway/tr...</td>\n",
              "      <td>23.9</td>\n",
              "      <td>NaN</td>\n",
              "    </tr>\n",
              "    <tr>\n",
              "      <th>95</th>\n",
              "      <td>Valencia</td>\n",
              "      <td>https://www.weather2visit.com/europe/spain/val...</td>\n",
              "      <td>23.9</td>\n",
              "      <td>NaN</td>\n",
              "    </tr>\n",
              "    <tr>\n",
              "      <th>96</th>\n",
              "      <td>Valletta</td>\n",
              "      <td>https://www.weather2visit.com/europe/malta/val...</td>\n",
              "      <td>16.3</td>\n",
              "      <td>NaN</td>\n",
              "    </tr>\n",
              "    <tr>\n",
              "      <th>97</th>\n",
              "      <td>Varna</td>\n",
              "      <td>https://www.weather2visit.com/europe/bulgaria/...</td>\n",
              "      <td>16.3</td>\n",
              "      <td>NaN</td>\n",
              "    </tr>\n",
              "    <tr>\n",
              "      <th>98</th>\n",
              "      <td>Venice</td>\n",
              "      <td>https://www.weather2visit.com/europe/italy/ven...</td>\n",
              "      <td>13.1</td>\n",
              "      <td>NaN</td>\n",
              "    </tr>\n",
              "    <tr>\n",
              "      <th>99</th>\n",
              "      <td>Vienna</td>\n",
              "      <td>https://www.weather2visit.com/europe/austria/v...</td>\n",
              "      <td>13.1</td>\n",
              "      <td>NaN</td>\n",
              "    </tr>\n",
              "    <tr>\n",
              "      <th>100</th>\n",
              "      <td>Vilnius</td>\n",
              "      <td>https://www.weather2visit.com/europe/lithuania...</td>\n",
              "      <td>24.2</td>\n",
              "      <td>NaN</td>\n",
              "    </tr>\n",
              "    <tr>\n",
              "      <th>101</th>\n",
              "      <td>Warsaw</td>\n",
              "      <td>https://www.weather2visit.com/europe/poland/wa...</td>\n",
              "      <td>24.2</td>\n",
              "      <td>NaN</td>\n",
              "    </tr>\n",
              "    <tr>\n",
              "      <th>102</th>\n",
              "      <td>Wroclaw</td>\n",
              "      <td>https://www.weather2visit.com/europe/poland/wr...</td>\n",
              "      <td>18.7</td>\n",
              "      <td>NaN</td>\n",
              "    </tr>\n",
              "    <tr>\n",
              "      <th>103</th>\n",
              "      <td>Zagreb</td>\n",
              "      <td>https://www.weather2visit.com/europe/croatia/z...</td>\n",
              "      <td>18.7</td>\n",
              "      <td>NaN</td>\n",
              "    </tr>\n",
              "    <tr>\n",
              "      <th>104</th>\n",
              "      <td>Zurich</td>\n",
              "      <td>https://www.weather2visit.com/europe/switzerla...</td>\n",
              "      <td>21.8</td>\n",
              "      <td>NaN</td>\n",
              "    </tr>\n",
              "  </tbody>\n",
              "</table>\n",
              "</div>"
            ],
            "text/plain": [
              "             City                                           City_url  \\\n",
              "89       Tenerife  https://www.weather2visit.com/europe/spain/ten...   \n",
              "90   Thessaloniki  https://www.weather2visit.com/europe/greece/th...   \n",
              "91         Tirana  https://www.weather2visit.com/europe/albania/t...   \n",
              "92       Toulouse  https://www.weather2visit.com/europe/france/to...   \n",
              "93         Tromso  https://www.weather2visit.com/europe/norway/tr...   \n",
              "94      Trondheim  https://www.weather2visit.com/europe/norway/tr...   \n",
              "95       Valencia  https://www.weather2visit.com/europe/spain/val...   \n",
              "96       Valletta  https://www.weather2visit.com/europe/malta/val...   \n",
              "97          Varna  https://www.weather2visit.com/europe/bulgaria/...   \n",
              "98         Venice  https://www.weather2visit.com/europe/italy/ven...   \n",
              "99         Vienna  https://www.weather2visit.com/europe/austria/v...   \n",
              "100       Vilnius  https://www.weather2visit.com/europe/lithuania...   \n",
              "101        Warsaw  https://www.weather2visit.com/europe/poland/wa...   \n",
              "102       Wroclaw  https://www.weather2visit.com/europe/poland/wr...   \n",
              "103        Zagreb  https://www.weather2visit.com/europe/croatia/z...   \n",
              "104        Zurich  https://www.weather2visit.com/europe/switzerla...   \n",
              "\n",
              "     Water Temp  0.5L Draft Beer[SEK]  \n",
              "89         23.2                   NaN  \n",
              "90          8.5                   NaN  \n",
              "91          8.5                   NaN  \n",
              "92         17.1                   NaN  \n",
              "93         17.1                   NaN  \n",
              "94         23.9                   NaN  \n",
              "95         23.9                   NaN  \n",
              "96         16.3                   NaN  \n",
              "97         16.3                   NaN  \n",
              "98         13.1                   NaN  \n",
              "99         13.1                   NaN  \n",
              "100        24.2                   NaN  \n",
              "101        24.2                   NaN  \n",
              "102        18.7                   NaN  \n",
              "103        18.7                   NaN  \n",
              "104        21.8                   NaN  "
            ]
          },
          "metadata": {
            "tags": []
          },
          "execution_count": 15
        }
      ]
    },
    {
      "metadata": {
        "id": "-EuQedIsdZh5",
        "colab_type": "code",
        "colab": {
          "base_uri": "https://localhost:8080/",
          "height": 203
        },
        "outputId": "c2c71cbf-b586-47b9-c6fa-228cdb93318d"
      },
      "cell_type": "code",
      "source": [
        "final = city_june_url[(city_june_url['Water Temp'] > 20) & (city_june_url['0.5L Draft Beer[SEK]'] < 20)]\n",
        "final.head()"
      ],
      "execution_count": 16,
      "outputs": [
        {
          "output_type": "execute_result",
          "data": {
            "text/html": [
              "<div>\n",
              "<style scoped>\n",
              "    .dataframe tbody tr th:only-of-type {\n",
              "        vertical-align: middle;\n",
              "    }\n",
              "\n",
              "    .dataframe tbody tr th {\n",
              "        vertical-align: top;\n",
              "    }\n",
              "\n",
              "    .dataframe thead th {\n",
              "        text-align: right;\n",
              "    }\n",
              "</style>\n",
              "<table border=\"1\" class=\"dataframe\">\n",
              "  <thead>\n",
              "    <tr style=\"text-align: right;\">\n",
              "      <th></th>\n",
              "      <th>City</th>\n",
              "      <th>City_url</th>\n",
              "      <th>Water Temp</th>\n",
              "      <th>0.5L Draft Beer[SEK]</th>\n",
              "    </tr>\n",
              "  </thead>\n",
              "  <tbody>\n",
              "    <tr>\n",
              "      <th>9</th>\n",
              "      <td>Aqaba</td>\n",
              "      <td>https://www.weather2visit.com/middle-east/jord...</td>\n",
              "      <td>21.6</td>\n",
              "      <td>19.06</td>\n",
              "    </tr>\n",
              "    <tr>\n",
              "      <th>19</th>\n",
              "      <td>Biarritz</td>\n",
              "      <td>https://www.weather2visit.com/europe/france/bi...</td>\n",
              "      <td>21.8</td>\n",
              "      <td>17.85</td>\n",
              "    </tr>\n",
              "    <tr>\n",
              "      <th>20</th>\n",
              "      <td>Bologna</td>\n",
              "      <td>https://www.weather2visit.com/europe/italy/bol...</td>\n",
              "      <td>25.7</td>\n",
              "      <td>16.30</td>\n",
              "    </tr>\n",
              "    <tr>\n",
              "      <th>29</th>\n",
              "      <td>Chisinau</td>\n",
              "      <td>https://www.weather2visit.com/europe/moldova/c...</td>\n",
              "      <td>24.3</td>\n",
              "      <td>18.05</td>\n",
              "    </tr>\n",
              "    <tr>\n",
              "      <th>31</th>\n",
              "      <td>Dubrovnik</td>\n",
              "      <td>https://www.weather2visit.com/europe/croatia/d...</td>\n",
              "      <td>21.2</td>\n",
              "      <td>19.79</td>\n",
              "    </tr>\n",
              "  </tbody>\n",
              "</table>\n",
              "</div>"
            ],
            "text/plain": [
              "         City                                           City_url  Water Temp  \\\n",
              "9       Aqaba  https://www.weather2visit.com/middle-east/jord...        21.6   \n",
              "19   Biarritz  https://www.weather2visit.com/europe/france/bi...        21.8   \n",
              "20    Bologna  https://www.weather2visit.com/europe/italy/bol...        25.7   \n",
              "29   Chisinau  https://www.weather2visit.com/europe/moldova/c...        24.3   \n",
              "31  Dubrovnik  https://www.weather2visit.com/europe/croatia/d...        21.2   \n",
              "\n",
              "    0.5L Draft Beer[SEK]  \n",
              "9                  19.06  \n",
              "19                 17.85  \n",
              "20                 16.30  \n",
              "29                 18.05  \n",
              "31                 19.79  "
            ]
          },
          "metadata": {
            "tags": []
          },
          "execution_count": 16
        }
      ]
    },
    {
      "metadata": {
        "id": "9lAFa0N9dZh7",
        "colab_type": "text"
      },
      "cell_type": "markdown",
      "source": [
        "# 5. Summarize all key input and result variables & Visualize results"
      ]
    },
    {
      "metadata": {
        "id": "2mAm_GBydZh7",
        "colab_type": "code",
        "colab": {
          "base_uri": "https://localhost:8080/",
          "height": 832
        },
        "outputId": "11a0cc06-1c97-49d0-c4b4-25c458ccefd0"
      },
      "cell_type": "code",
      "source": [
        "#final.plot.scatter(x = 'Water Temp',y = '0.5L Draft Beer[SEK]',label='City',c = )\n",
        "\n",
        "for i,type in enumerate(city_june_url['City']):\n",
        "    x = city_june_url.loc[i,'Water Temp']\n",
        "    y = city_june_url.loc[i,'0.5L Draft Beer[SEK]']\n",
        "    plt.scatter(x, y, marker='x', color='red')\n",
        "    plt.text(x+0.3, y+0.3, type, fontsize=9)\n",
        "    plt.xlabel('Water Temp [C]')\n",
        "    plt.ylabel('0.5L Draft Beer[SEK]')\n"
      ],
      "execution_count": 17,
      "outputs": [
        {
          "output_type": "stream",
          "text": [
            "posx and posy should be finite values\n",
            "posx and posy should be finite values\n",
            "posx and posy should be finite values\n",
            "posx and posy should be finite values\n",
            "posx and posy should be finite values\n",
            "posx and posy should be finite values\n",
            "posx and posy should be finite values\n",
            "posx and posy should be finite values\n",
            "posx and posy should be finite values\n",
            "posx and posy should be finite values\n",
            "posx and posy should be finite values\n",
            "posx and posy should be finite values\n",
            "posx and posy should be finite values\n",
            "posx and posy should be finite values\n",
            "posx and posy should be finite values\n",
            "posx and posy should be finite values\n",
            "posx and posy should be finite values\n",
            "posx and posy should be finite values\n",
            "posx and posy should be finite values\n",
            "posx and posy should be finite values\n",
            "posx and posy should be finite values\n",
            "posx and posy should be finite values\n",
            "posx and posy should be finite values\n",
            "posx and posy should be finite values\n",
            "posx and posy should be finite values\n",
            "posx and posy should be finite values\n",
            "posx and posy should be finite values\n",
            "posx and posy should be finite values\n",
            "posx and posy should be finite values\n",
            "posx and posy should be finite values\n",
            "posx and posy should be finite values\n",
            "posx and posy should be finite values\n"
          ],
          "name": "stderr"
        },
        {
          "output_type": "display_data",
          "data": {
            "image/png": "[encoded data removed]",
            "text/plain": [
              "<Figure size 432x288 with 1 Axes>"
            ]
          },
          "metadata": {
            "tags": []
          }
        }
      ]
    }
  ]
}